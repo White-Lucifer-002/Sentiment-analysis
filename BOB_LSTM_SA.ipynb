{
  "cells": [
    {
      "cell_type": "code",
      "execution_count": 1,
      "metadata": {
        "id": "awdWwfnyzFiI"
      },
      "outputs": [],
      "source": [
        "import pandas as pd\n",
        "import io\n",
        "import matplotlib.pyplot as plt"
      ]
    },
    {
      "cell_type": "code",
      "execution_count": 2,
      "metadata": {
        "colab": {
          "base_uri": "https://localhost:8080/"
        },
        "id": "xEGP_LrlzPdG",
        "outputId": "3669ace3-9d40-4499-e442-6b91d804970e"
      },
      "outputs": [
        {
          "output_type": "stream",
          "name": "stdout",
          "text": [
            "Mounted at /content/drive\n"
          ]
        }
      ],
      "source": [
        "from google.colab import drive\n",
        "\n",
        "drive.mount('/content/drive')"
      ]
    },
    {
      "cell_type": "code",
      "execution_count": 3,
      "metadata": {
        "colab": {
          "base_uri": "https://localhost:8080/",
          "height": 424
        },
        "id": "A0KWEAP1MMWn",
        "outputId": "6f6abb20-9bcd-4019-dafd-fe0badf8c0e7"
      },
      "outputs": [
        {
          "output_type": "execute_result",
          "data": {
            "text/plain": [
              "      UserName  ScreenName                Location     TweetAt  \\\n",
              "0            1       44954             Seattle, WA  02-03-2020   \n",
              "1            2       44956             Chicagoland  02-03-2020   \n",
              "2            3       44959                     NaN  03-03-2020   \n",
              "3            4       44963  Boksburg, South Africa  04-03-2020   \n",
              "4            5       44967          Washington, DC  04-03-2020   \n",
              "...        ...         ...                     ...         ...   \n",
              "1983      1984       48737       Paraparaumu Beach  16-03-2020   \n",
              "1984      1985       48743        Cincinnati, Ohio  16-03-2020   \n",
              "1985      1986       48745         Washington D.C.  16-03-2020   \n",
              "1986      1987       48746               Israel ??  16-03-2020   \n",
              "1987      1988       48747          Farmington, NM  16-03-2020   \n",
              "\n",
              "                                          OriginalTweet Sentiment  \n",
              "0     When I couldn't find hand sanitizer at Fred Me...  Positive  \n",
              "1     #Panic buying hits #NewYork City as anxious sh...  Negative  \n",
              "2     Voting in the age of #coronavirus = hand sanit...  Positive  \n",
              "3     Best quality couches at unbelievably low price...  Positive  \n",
              "4     While we were busy watching election returns a...  Positive  \n",
              "...                                                 ...       ...  \n",
              "1983  Just been through K?piti New World which is bu...  Positive  \n",
              "1984  Even though the Law Library is closed, ALL sub...  Positive  \n",
              "1985  @RicePolitics @MDCounties Craig, will you call...  Negative  \n",
              "1986  Meanwhile In A Supermarket in Israel -- People...  Positive  \n",
              "1987  Did you panic buy a lot of non-perishable item...  Negative  \n",
              "\n",
              "[1988 rows x 6 columns]"
            ],
            "text/html": [
              "\n",
              "  <div id=\"df-b406e09d-b952-4a8e-9551-592d7694b5bf\">\n",
              "    <div class=\"colab-df-container\">\n",
              "      <div>\n",
              "<style scoped>\n",
              "    .dataframe tbody tr th:only-of-type {\n",
              "        vertical-align: middle;\n",
              "    }\n",
              "\n",
              "    .dataframe tbody tr th {\n",
              "        vertical-align: top;\n",
              "    }\n",
              "\n",
              "    .dataframe thead th {\n",
              "        text-align: right;\n",
              "    }\n",
              "</style>\n",
              "<table border=\"1\" class=\"dataframe\">\n",
              "  <thead>\n",
              "    <tr style=\"text-align: right;\">\n",
              "      <th></th>\n",
              "      <th>UserName</th>\n",
              "      <th>ScreenName</th>\n",
              "      <th>Location</th>\n",
              "      <th>TweetAt</th>\n",
              "      <th>OriginalTweet</th>\n",
              "      <th>Sentiment</th>\n",
              "    </tr>\n",
              "  </thead>\n",
              "  <tbody>\n",
              "    <tr>\n",
              "      <th>0</th>\n",
              "      <td>1</td>\n",
              "      <td>44954</td>\n",
              "      <td>Seattle, WA</td>\n",
              "      <td>02-03-2020</td>\n",
              "      <td>When I couldn't find hand sanitizer at Fred Me...</td>\n",
              "      <td>Positive</td>\n",
              "    </tr>\n",
              "    <tr>\n",
              "      <th>1</th>\n",
              "      <td>2</td>\n",
              "      <td>44956</td>\n",
              "      <td>Chicagoland</td>\n",
              "      <td>02-03-2020</td>\n",
              "      <td>#Panic buying hits #NewYork City as anxious sh...</td>\n",
              "      <td>Negative</td>\n",
              "    </tr>\n",
              "    <tr>\n",
              "      <th>2</th>\n",
              "      <td>3</td>\n",
              "      <td>44959</td>\n",
              "      <td>NaN</td>\n",
              "      <td>03-03-2020</td>\n",
              "      <td>Voting in the age of #coronavirus = hand sanit...</td>\n",
              "      <td>Positive</td>\n",
              "    </tr>\n",
              "    <tr>\n",
              "      <th>3</th>\n",
              "      <td>4</td>\n",
              "      <td>44963</td>\n",
              "      <td>Boksburg, South Africa</td>\n",
              "      <td>04-03-2020</td>\n",
              "      <td>Best quality couches at unbelievably low price...</td>\n",
              "      <td>Positive</td>\n",
              "    </tr>\n",
              "    <tr>\n",
              "      <th>4</th>\n",
              "      <td>5</td>\n",
              "      <td>44967</td>\n",
              "      <td>Washington, DC</td>\n",
              "      <td>04-03-2020</td>\n",
              "      <td>While we were busy watching election returns a...</td>\n",
              "      <td>Positive</td>\n",
              "    </tr>\n",
              "    <tr>\n",
              "      <th>...</th>\n",
              "      <td>...</td>\n",
              "      <td>...</td>\n",
              "      <td>...</td>\n",
              "      <td>...</td>\n",
              "      <td>...</td>\n",
              "      <td>...</td>\n",
              "    </tr>\n",
              "    <tr>\n",
              "      <th>1983</th>\n",
              "      <td>1984</td>\n",
              "      <td>48737</td>\n",
              "      <td>Paraparaumu Beach</td>\n",
              "      <td>16-03-2020</td>\n",
              "      <td>Just been through K?piti New World which is bu...</td>\n",
              "      <td>Positive</td>\n",
              "    </tr>\n",
              "    <tr>\n",
              "      <th>1984</th>\n",
              "      <td>1985</td>\n",
              "      <td>48743</td>\n",
              "      <td>Cincinnati, Ohio</td>\n",
              "      <td>16-03-2020</td>\n",
              "      <td>Even though the Law Library is closed, ALL sub...</td>\n",
              "      <td>Positive</td>\n",
              "    </tr>\n",
              "    <tr>\n",
              "      <th>1985</th>\n",
              "      <td>1986</td>\n",
              "      <td>48745</td>\n",
              "      <td>Washington D.C.</td>\n",
              "      <td>16-03-2020</td>\n",
              "      <td>@RicePolitics @MDCounties Craig, will you call...</td>\n",
              "      <td>Negative</td>\n",
              "    </tr>\n",
              "    <tr>\n",
              "      <th>1986</th>\n",
              "      <td>1987</td>\n",
              "      <td>48746</td>\n",
              "      <td>Israel ??</td>\n",
              "      <td>16-03-2020</td>\n",
              "      <td>Meanwhile In A Supermarket in Israel -- People...</td>\n",
              "      <td>Positive</td>\n",
              "    </tr>\n",
              "    <tr>\n",
              "      <th>1987</th>\n",
              "      <td>1988</td>\n",
              "      <td>48747</td>\n",
              "      <td>Farmington, NM</td>\n",
              "      <td>16-03-2020</td>\n",
              "      <td>Did you panic buy a lot of non-perishable item...</td>\n",
              "      <td>Negative</td>\n",
              "    </tr>\n",
              "  </tbody>\n",
              "</table>\n",
              "<p>1988 rows × 6 columns</p>\n",
              "</div>\n",
              "      <button class=\"colab-df-convert\" onclick=\"convertToInteractive('df-b406e09d-b952-4a8e-9551-592d7694b5bf')\"\n",
              "              title=\"Convert this dataframe to an interactive table.\"\n",
              "              style=\"display:none;\">\n",
              "        \n",
              "  <svg xmlns=\"http://www.w3.org/2000/svg\" height=\"24px\"viewBox=\"0 0 24 24\"\n",
              "       width=\"24px\">\n",
              "    <path d=\"M0 0h24v24H0V0z\" fill=\"none\"/>\n",
              "    <path d=\"M18.56 5.44l.94 2.06.94-2.06 2.06-.94-2.06-.94-.94-2.06-.94 2.06-2.06.94zm-11 1L8.5 8.5l.94-2.06 2.06-.94-2.06-.94L8.5 2.5l-.94 2.06-2.06.94zm10 10l.94 2.06.94-2.06 2.06-.94-2.06-.94-.94-2.06-.94 2.06-2.06.94z\"/><path d=\"M17.41 7.96l-1.37-1.37c-.4-.4-.92-.59-1.43-.59-.52 0-1.04.2-1.43.59L10.3 9.45l-7.72 7.72c-.78.78-.78 2.05 0 2.83L4 21.41c.39.39.9.59 1.41.59.51 0 1.02-.2 1.41-.59l7.78-7.78 2.81-2.81c.8-.78.8-2.07 0-2.86zM5.41 20L4 18.59l7.72-7.72 1.47 1.35L5.41 20z\"/>\n",
              "  </svg>\n",
              "      </button>\n",
              "      \n",
              "  <style>\n",
              "    .colab-df-container {\n",
              "      display:flex;\n",
              "      flex-wrap:wrap;\n",
              "      gap: 12px;\n",
              "    }\n",
              "\n",
              "    .colab-df-convert {\n",
              "      background-color: #E8F0FE;\n",
              "      border: none;\n",
              "      border-radius: 50%;\n",
              "      cursor: pointer;\n",
              "      display: none;\n",
              "      fill: #1967D2;\n",
              "      height: 32px;\n",
              "      padding: 0 0 0 0;\n",
              "      width: 32px;\n",
              "    }\n",
              "\n",
              "    .colab-df-convert:hover {\n",
              "      background-color: #E2EBFA;\n",
              "      box-shadow: 0px 1px 2px rgba(60, 64, 67, 0.3), 0px 1px 3px 1px rgba(60, 64, 67, 0.15);\n",
              "      fill: #174EA6;\n",
              "    }\n",
              "\n",
              "    [theme=dark] .colab-df-convert {\n",
              "      background-color: #3B4455;\n",
              "      fill: #D2E3FC;\n",
              "    }\n",
              "\n",
              "    [theme=dark] .colab-df-convert:hover {\n",
              "      background-color: #434B5C;\n",
              "      box-shadow: 0px 1px 3px 1px rgba(0, 0, 0, 0.15);\n",
              "      filter: drop-shadow(0px 1px 2px rgba(0, 0, 0, 0.3));\n",
              "      fill: #FFFFFF;\n",
              "    }\n",
              "  </style>\n",
              "\n",
              "      <script>\n",
              "        const buttonEl =\n",
              "          document.querySelector('#df-b406e09d-b952-4a8e-9551-592d7694b5bf button.colab-df-convert');\n",
              "        buttonEl.style.display =\n",
              "          google.colab.kernel.accessAllowed ? 'block' : 'none';\n",
              "\n",
              "        async function convertToInteractive(key) {\n",
              "          const element = document.querySelector('#df-b406e09d-b952-4a8e-9551-592d7694b5bf');\n",
              "          const dataTable =\n",
              "            await google.colab.kernel.invokeFunction('convertToInteractive',\n",
              "                                                     [key], {});\n",
              "          if (!dataTable) return;\n",
              "\n",
              "          const docLinkHtml = 'Like what you see? Visit the ' +\n",
              "            '<a target=\"_blank\" href=https://colab.research.google.com/notebooks/data_table.ipynb>data table notebook</a>'\n",
              "            + ' to learn more about interactive tables.';\n",
              "          element.innerHTML = '';\n",
              "          dataTable['output_type'] = 'display_data';\n",
              "          await google.colab.output.renderOutput(dataTable, element);\n",
              "          const docLink = document.createElement('div');\n",
              "          docLink.innerHTML = docLinkHtml;\n",
              "          element.appendChild(docLink);\n",
              "        }\n",
              "      </script>\n",
              "    </div>\n",
              "  </div>\n",
              "  "
            ]
          },
          "metadata": {},
          "execution_count": 3
        }
      ],
      "source": [
        "data = pd.read_csv('drive/MyDrive/Datasets/Sentiment_analysis/CoronaTweetsSentimentAnalysis.csv')\n",
        "\n",
        "data"
      ]
    },
    {
      "cell_type": "code",
      "execution_count": 4,
      "metadata": {
        "colab": {
          "base_uri": "https://localhost:8080/",
          "height": 424
        },
        "id": "grTmtR5r5UmH",
        "outputId": "ffc3635f-5fca-40d3-fbdc-e0f53a43afca"
      },
      "outputs": [
        {
          "output_type": "execute_result",
          "data": {
            "text/plain": [
              "                                          OriginalTweet Sentiment\n",
              "0     When I couldn't find hand sanitizer at Fred Me...  Positive\n",
              "1     #Panic buying hits #NewYork City as anxious sh...  Negative\n",
              "2     Voting in the age of #coronavirus = hand sanit...  Positive\n",
              "3     Best quality couches at unbelievably low price...  Positive\n",
              "4     While we were busy watching election returns a...  Positive\n",
              "...                                                 ...       ...\n",
              "1983  Just been through K?piti New World which is bu...  Positive\n",
              "1984  Even though the Law Library is closed, ALL sub...  Positive\n",
              "1985  @RicePolitics @MDCounties Craig, will you call...  Negative\n",
              "1986  Meanwhile In A Supermarket in Israel -- People...  Positive\n",
              "1987  Did you panic buy a lot of non-perishable item...  Negative\n",
              "\n",
              "[1988 rows x 2 columns]"
            ],
            "text/html": [
              "\n",
              "  <div id=\"df-1f5b07b6-7cab-46bd-9612-f623cd97ea35\">\n",
              "    <div class=\"colab-df-container\">\n",
              "      <div>\n",
              "<style scoped>\n",
              "    .dataframe tbody tr th:only-of-type {\n",
              "        vertical-align: middle;\n",
              "    }\n",
              "\n",
              "    .dataframe tbody tr th {\n",
              "        vertical-align: top;\n",
              "    }\n",
              "\n",
              "    .dataframe thead th {\n",
              "        text-align: right;\n",
              "    }\n",
              "</style>\n",
              "<table border=\"1\" class=\"dataframe\">\n",
              "  <thead>\n",
              "    <tr style=\"text-align: right;\">\n",
              "      <th></th>\n",
              "      <th>OriginalTweet</th>\n",
              "      <th>Sentiment</th>\n",
              "    </tr>\n",
              "  </thead>\n",
              "  <tbody>\n",
              "    <tr>\n",
              "      <th>0</th>\n",
              "      <td>When I couldn't find hand sanitizer at Fred Me...</td>\n",
              "      <td>Positive</td>\n",
              "    </tr>\n",
              "    <tr>\n",
              "      <th>1</th>\n",
              "      <td>#Panic buying hits #NewYork City as anxious sh...</td>\n",
              "      <td>Negative</td>\n",
              "    </tr>\n",
              "    <tr>\n",
              "      <th>2</th>\n",
              "      <td>Voting in the age of #coronavirus = hand sanit...</td>\n",
              "      <td>Positive</td>\n",
              "    </tr>\n",
              "    <tr>\n",
              "      <th>3</th>\n",
              "      <td>Best quality couches at unbelievably low price...</td>\n",
              "      <td>Positive</td>\n",
              "    </tr>\n",
              "    <tr>\n",
              "      <th>4</th>\n",
              "      <td>While we were busy watching election returns a...</td>\n",
              "      <td>Positive</td>\n",
              "    </tr>\n",
              "    <tr>\n",
              "      <th>...</th>\n",
              "      <td>...</td>\n",
              "      <td>...</td>\n",
              "    </tr>\n",
              "    <tr>\n",
              "      <th>1983</th>\n",
              "      <td>Just been through K?piti New World which is bu...</td>\n",
              "      <td>Positive</td>\n",
              "    </tr>\n",
              "    <tr>\n",
              "      <th>1984</th>\n",
              "      <td>Even though the Law Library is closed, ALL sub...</td>\n",
              "      <td>Positive</td>\n",
              "    </tr>\n",
              "    <tr>\n",
              "      <th>1985</th>\n",
              "      <td>@RicePolitics @MDCounties Craig, will you call...</td>\n",
              "      <td>Negative</td>\n",
              "    </tr>\n",
              "    <tr>\n",
              "      <th>1986</th>\n",
              "      <td>Meanwhile In A Supermarket in Israel -- People...</td>\n",
              "      <td>Positive</td>\n",
              "    </tr>\n",
              "    <tr>\n",
              "      <th>1987</th>\n",
              "      <td>Did you panic buy a lot of non-perishable item...</td>\n",
              "      <td>Negative</td>\n",
              "    </tr>\n",
              "  </tbody>\n",
              "</table>\n",
              "<p>1988 rows × 2 columns</p>\n",
              "</div>\n",
              "      <button class=\"colab-df-convert\" onclick=\"convertToInteractive('df-1f5b07b6-7cab-46bd-9612-f623cd97ea35')\"\n",
              "              title=\"Convert this dataframe to an interactive table.\"\n",
              "              style=\"display:none;\">\n",
              "        \n",
              "  <svg xmlns=\"http://www.w3.org/2000/svg\" height=\"24px\"viewBox=\"0 0 24 24\"\n",
              "       width=\"24px\">\n",
              "    <path d=\"M0 0h24v24H0V0z\" fill=\"none\"/>\n",
              "    <path d=\"M18.56 5.44l.94 2.06.94-2.06 2.06-.94-2.06-.94-.94-2.06-.94 2.06-2.06.94zm-11 1L8.5 8.5l.94-2.06 2.06-.94-2.06-.94L8.5 2.5l-.94 2.06-2.06.94zm10 10l.94 2.06.94-2.06 2.06-.94-2.06-.94-.94-2.06-.94 2.06-2.06.94z\"/><path d=\"M17.41 7.96l-1.37-1.37c-.4-.4-.92-.59-1.43-.59-.52 0-1.04.2-1.43.59L10.3 9.45l-7.72 7.72c-.78.78-.78 2.05 0 2.83L4 21.41c.39.39.9.59 1.41.59.51 0 1.02-.2 1.41-.59l7.78-7.78 2.81-2.81c.8-.78.8-2.07 0-2.86zM5.41 20L4 18.59l7.72-7.72 1.47 1.35L5.41 20z\"/>\n",
              "  </svg>\n",
              "      </button>\n",
              "      \n",
              "  <style>\n",
              "    .colab-df-container {\n",
              "      display:flex;\n",
              "      flex-wrap:wrap;\n",
              "      gap: 12px;\n",
              "    }\n",
              "\n",
              "    .colab-df-convert {\n",
              "      background-color: #E8F0FE;\n",
              "      border: none;\n",
              "      border-radius: 50%;\n",
              "      cursor: pointer;\n",
              "      display: none;\n",
              "      fill: #1967D2;\n",
              "      height: 32px;\n",
              "      padding: 0 0 0 0;\n",
              "      width: 32px;\n",
              "    }\n",
              "\n",
              "    .colab-df-convert:hover {\n",
              "      background-color: #E2EBFA;\n",
              "      box-shadow: 0px 1px 2px rgba(60, 64, 67, 0.3), 0px 1px 3px 1px rgba(60, 64, 67, 0.15);\n",
              "      fill: #174EA6;\n",
              "    }\n",
              "\n",
              "    [theme=dark] .colab-df-convert {\n",
              "      background-color: #3B4455;\n",
              "      fill: #D2E3FC;\n",
              "    }\n",
              "\n",
              "    [theme=dark] .colab-df-convert:hover {\n",
              "      background-color: #434B5C;\n",
              "      box-shadow: 0px 1px 3px 1px rgba(0, 0, 0, 0.15);\n",
              "      filter: drop-shadow(0px 1px 2px rgba(0, 0, 0, 0.3));\n",
              "      fill: #FFFFFF;\n",
              "    }\n",
              "  </style>\n",
              "\n",
              "      <script>\n",
              "        const buttonEl =\n",
              "          document.querySelector('#df-1f5b07b6-7cab-46bd-9612-f623cd97ea35 button.colab-df-convert');\n",
              "        buttonEl.style.display =\n",
              "          google.colab.kernel.accessAllowed ? 'block' : 'none';\n",
              "\n",
              "        async function convertToInteractive(key) {\n",
              "          const element = document.querySelector('#df-1f5b07b6-7cab-46bd-9612-f623cd97ea35');\n",
              "          const dataTable =\n",
              "            await google.colab.kernel.invokeFunction('convertToInteractive',\n",
              "                                                     [key], {});\n",
              "          if (!dataTable) return;\n",
              "\n",
              "          const docLinkHtml = 'Like what you see? Visit the ' +\n",
              "            '<a target=\"_blank\" href=https://colab.research.google.com/notebooks/data_table.ipynb>data table notebook</a>'\n",
              "            + ' to learn more about interactive tables.';\n",
              "          element.innerHTML = '';\n",
              "          dataTable['output_type'] = 'display_data';\n",
              "          await google.colab.output.renderOutput(dataTable, element);\n",
              "          const docLink = document.createElement('div');\n",
              "          docLink.innerHTML = docLinkHtml;\n",
              "          element.appendChild(docLink);\n",
              "        }\n",
              "      </script>\n",
              "    </div>\n",
              "  </div>\n",
              "  "
            ]
          },
          "metadata": {},
          "execution_count": 4
        }
      ],
      "source": [
        "#Since, we'll only consider the review content for sentiment analysis all the others are not needed\n",
        "\n",
        "mod_data = data[['OriginalTweet', 'Sentiment']]\n",
        "\n",
        "mod_data"
      ]
    },
    {
      "cell_type": "code",
      "execution_count": 5,
      "metadata": {
        "colab": {
          "base_uri": "https://localhost:8080/"
        },
        "id": "D53bpCGu-_ch",
        "outputId": "d7ae0c30-c3ca-4d87-d483-6a79660019a0"
      },
      "outputs": [
        {
          "output_type": "execute_result",
          "data": {
            "text/plain": [
              "(1988, 2)"
            ]
          },
          "metadata": {},
          "execution_count": 5
        }
      ],
      "source": [
        "mod_data.shape"
      ]
    },
    {
      "cell_type": "code",
      "execution_count": 6,
      "metadata": {
        "colab": {
          "base_uri": "https://localhost:8080/"
        },
        "id": "vfDOeVq-M_YP",
        "outputId": "4858c1b2-6654-49d6-8956-9ddec3f56939"
      },
      "outputs": [
        {
          "output_type": "stream",
          "name": "stdout",
          "text": [
            "<class 'pandas.core.frame.DataFrame'>\n",
            "RangeIndex: 1988 entries, 0 to 1987\n",
            "Data columns (total 2 columns):\n",
            " #   Column         Non-Null Count  Dtype \n",
            "---  ------         --------------  ----- \n",
            " 0   OriginalTweet  1988 non-null   object\n",
            " 1   Sentiment      1988 non-null   object\n",
            "dtypes: object(2)\n",
            "memory usage: 31.2+ KB\n"
          ]
        }
      ],
      "source": [
        "mod_data.info()"
      ]
    },
    {
      "cell_type": "code",
      "execution_count": 7,
      "metadata": {
        "colab": {
          "base_uri": "https://localhost:8080/"
        },
        "id": "yw2Q9UDoNBOu",
        "outputId": "c6655975-f9e3-493d-c7bb-d6bb6bbf366d"
      },
      "outputs": [
        {
          "output_type": "execute_result",
          "data": {
            "text/plain": [
              "OriginalTweet    0\n",
              "Sentiment        0\n",
              "dtype: int64"
            ]
          },
          "metadata": {},
          "execution_count": 7
        }
      ],
      "source": [
        "mod_data.isnull().sum()"
      ]
    },
    {
      "cell_type": "code",
      "execution_count": 8,
      "metadata": {
        "colab": {
          "base_uri": "https://localhost:8080/",
          "height": 282
        },
        "id": "ixRhKbk788qo",
        "outputId": "c43a7960-18e5-4bb8-d0fe-d2ef815667e4"
      },
      "outputs": [
        {
          "output_type": "execute_result",
          "data": {
            "text/plain": [
              "<matplotlib.axes._subplots.AxesSubplot at 0x7fac872a3d50>"
            ]
          },
          "metadata": {},
          "execution_count": 8
        },
        {
          "output_type": "display_data",
          "data": {
            "text/plain": [
              "<Figure size 432x288 with 1 Axes>"
            ],
            "image/png": "[encoded data removed]"
          },
          "metadata": {
            "needs_background": "light"
          }
        }
      ],
      "source": [
        "mod_data['Sentiment'].value_counts()[:2].plot(kind='barh')"
      ]
    },
    {
      "cell_type": "code",
      "execution_count": 9,
      "metadata": {
        "colab": {
          "base_uri": "https://localhost:8080/"
        },
        "id": "6qUXqrEb5Wu2",
        "outputId": "fdee3c59-3e16-43e1-bf24-c0f16d1b455c"
      },
      "outputs": [
        {
          "output_type": "execute_result",
          "data": {
            "text/plain": [
              "0       When I couldn't find hand sanitizer at Fred Me...\n",
              "1       #Panic buying hits #NewYork City as anxious sh...\n",
              "2       Voting in the age of #coronavirus = hand sanit...\n",
              "3       Best quality couches at unbelievably low price...\n",
              "4       While we were busy watching election returns a...\n",
              "                              ...                        \n",
              "1983    Just been through K?piti New World which is bu...\n",
              "1984    Even though the Law Library is closed, ALL sub...\n",
              "1985    @RicePolitics @MDCounties Craig, will you call...\n",
              "1986    Meanwhile In A Supermarket in Israel -- People...\n",
              "1987    Did you panic buy a lot of non-perishable item...\n",
              "Name: OriginalTweet, Length: 1988, dtype: object"
            ]
          },
          "metadata": {},
          "execution_count": 9
        }
      ],
      "source": [
        "X = mod_data['OriginalTweet'].copy()\n",
        "\n",
        "X"
      ]
    },
    {
      "cell_type": "code",
      "execution_count": 10,
      "metadata": {
        "colab": {
          "base_uri": "https://localhost:8080/",
          "height": 53
        },
        "id": "QPNOG7Rqux32",
        "outputId": "a6c340ff-9608-4bcc-9ccb-d91414b08c53"
      },
      "outputs": [
        {
          "output_type": "execute_result",
          "data": {
            "text/plain": [
              "'#Panic buying hits #NewYork City as anxious shoppers stock up on food&amp;medical supplies after #healthcare worker in her 30s becomes #BigApple 1st confirmed #coronavirus patient OR a #Bloomberg staged event?\\r\\r\\n\\r\\r\\nhttps://t.co/IASiReGPC4\\r\\r\\n\\r\\r\\n#QAnon #QAnon2018 #QAnon2020 \\r\\r\\n#Election2020 #CDC https://t.co/29isZOewxu'"
            ],
            "application/vnd.google.colaboratory.intrinsic+json": {
              "type": "string"
            }
          },
          "metadata": {},
          "execution_count": 10
        }
      ],
      "source": [
        "X[1]"
      ]
    },
    {
      "cell_type": "code",
      "execution_count": 11,
      "metadata": {
        "colab": {
          "base_uri": "https://localhost:8080/"
        },
        "id": "0lnlhmElMNFL",
        "outputId": "7c3154db-a93b-491a-a3bf-e503633babe5"
      },
      "outputs": [
        {
          "output_type": "stream",
          "name": "stdout",
          "text": [
            "[nltk_data] Downloading package stopwords to /root/nltk_data...\n",
            "[nltk_data]   Unzipping corpora/stopwords.zip.\n"
          ]
        },
        {
          "output_type": "execute_result",
          "data": {
            "text/plain": [
              "True"
            ]
          },
          "metadata": {},
          "execution_count": 11
        }
      ],
      "source": [
        "import nltk \n",
        "\n",
        "nltk.download('stopwords')"
      ]
    },
    {
      "cell_type": "code",
      "execution_count": 12,
      "metadata": {
        "colab": {
          "base_uri": "https://localhost:8080/"
        },
        "id": "Ldb0K_moKquu",
        "outputId": "b5d3be65-fb6e-491d-a106-2268bc0fef26"
      },
      "outputs": [
        {
          "output_type": "execute_result",
          "data": {
            "text/plain": [
              "{'a',\n",
              " 'about',\n",
              " 'above',\n",
              " 'after',\n",
              " 'again',\n",
              " 'against',\n",
              " 'ain',\n",
              " 'all',\n",
              " 'am',\n",
              " 'an',\n",
              " 'and',\n",
              " 'any',\n",
              " 'are',\n",
              " 'aren',\n",
              " \"aren't\",\n",
              " 'as',\n",
              " 'at',\n",
              " 'be',\n",
              " 'because',\n",
              " 'been',\n",
              " 'before',\n",
              " 'being',\n",
              " 'below',\n",
              " 'between',\n",
              " 'both',\n",
              " 'but',\n",
              " 'by',\n",
              " 'can',\n",
              " 'couldn',\n",
              " \"couldn't\",\n",
              " 'd',\n",
              " 'did',\n",
              " 'didn',\n",
              " \"didn't\",\n",
              " 'do',\n",
              " 'does',\n",
              " 'doesn',\n",
              " \"doesn't\",\n",
              " 'doing',\n",
              " 'don',\n",
              " \"don't\",\n",
              " 'down',\n",
              " 'during',\n",
              " 'each',\n",
              " 'few',\n",
              " 'for',\n",
              " 'from',\n",
              " 'further',\n",
              " 'had',\n",
              " 'hadn',\n",
              " \"hadn't\",\n",
              " 'has',\n",
              " 'hasn',\n",
              " \"hasn't\",\n",
              " 'have',\n",
              " 'haven',\n",
              " \"haven't\",\n",
              " 'having',\n",
              " 'he',\n",
              " 'her',\n",
              " 'here',\n",
              " 'hers',\n",
              " 'herself',\n",
              " 'him',\n",
              " 'himself',\n",
              " 'his',\n",
              " 'how',\n",
              " 'i',\n",
              " 'if',\n",
              " 'in',\n",
              " 'into',\n",
              " 'is',\n",
              " 'isn',\n",
              " \"isn't\",\n",
              " 'it',\n",
              " \"it's\",\n",
              " 'its',\n",
              " 'itself',\n",
              " 'just',\n",
              " 'll',\n",
              " 'm',\n",
              " 'ma',\n",
              " 'me',\n",
              " 'mightn',\n",
              " \"mightn't\",\n",
              " 'more',\n",
              " 'most',\n",
              " 'mustn',\n",
              " \"mustn't\",\n",
              " 'my',\n",
              " 'myself',\n",
              " 'needn',\n",
              " \"needn't\",\n",
              " 'no',\n",
              " 'nor',\n",
              " 'not',\n",
              " 'now',\n",
              " 'o',\n",
              " 'of',\n",
              " 'off',\n",
              " 'on',\n",
              " 'once',\n",
              " 'only',\n",
              " 'or',\n",
              " 'other',\n",
              " 'our',\n",
              " 'ours',\n",
              " 'ourselves',\n",
              " 'out',\n",
              " 'over',\n",
              " 'own',\n",
              " 're',\n",
              " 's',\n",
              " 'same',\n",
              " 'shan',\n",
              " \"shan't\",\n",
              " 'she',\n",
              " \"she's\",\n",
              " 'should',\n",
              " \"should've\",\n",
              " 'shouldn',\n",
              " \"shouldn't\",\n",
              " 'so',\n",
              " 'some',\n",
              " 'such',\n",
              " 't',\n",
              " 'than',\n",
              " 'that',\n",
              " \"that'll\",\n",
              " 'the',\n",
              " 'their',\n",
              " 'theirs',\n",
              " 'them',\n",
              " 'themselves',\n",
              " 'then',\n",
              " 'there',\n",
              " 'these',\n",
              " 'they',\n",
              " 'this',\n",
              " 'those',\n",
              " 'through',\n",
              " 'to',\n",
              " 'too',\n",
              " 'under',\n",
              " 'until',\n",
              " 'up',\n",
              " 've',\n",
              " 'very',\n",
              " 'was',\n",
              " 'wasn',\n",
              " \"wasn't\",\n",
              " 'we',\n",
              " 'were',\n",
              " 'weren',\n",
              " \"weren't\",\n",
              " 'what',\n",
              " 'when',\n",
              " 'where',\n",
              " 'which',\n",
              " 'while',\n",
              " 'who',\n",
              " 'whom',\n",
              " 'why',\n",
              " 'will',\n",
              " 'with',\n",
              " 'won',\n",
              " \"won't\",\n",
              " 'wouldn',\n",
              " \"wouldn't\",\n",
              " 'y',\n",
              " 'you',\n",
              " \"you'd\",\n",
              " \"you'll\",\n",
              " \"you're\",\n",
              " \"you've\",\n",
              " 'your',\n",
              " 'yours',\n",
              " 'yourself',\n",
              " 'yourselves'}"
            ]
          },
          "metadata": {},
          "execution_count": 12
        }
      ],
      "source": [
        "from nltk.corpus import stopwords\n",
        "\n",
        "stop_words = set(stopwords.words('english'))\n",
        "\n",
        "stop_words"
      ]
    },
    {
      "cell_type": "code",
      "execution_count": 13,
      "metadata": {
        "id": "lFP6sLhQEJnO"
      },
      "outputs": [],
      "source": [
        "import re\n",
        "\n",
        "for i in range(0, len(X)):\n",
        "  words = X[i]\n",
        "  words = re.sub(r\"[^a-zA-Z0-9' ']\",\"\",words)\n",
        "\n",
        "  words = words.split()  \n",
        "  for x in range(len(words)):\n",
        "      if \"https\" in words[x]:\n",
        "          words = words[:x]\n",
        "          break\n",
        "\n",
        "  word = []\n",
        "  for j in words:\n",
        "    if j not in stop_words:\n",
        "        word.append(j+\" \")\n",
        "  \n",
        "  X[i] = ''.join(word)"
      ]
    },
    {
      "cell_type": "code",
      "execution_count": 14,
      "metadata": {
        "colab": {
          "base_uri": "https://localhost:8080/",
          "height": 36
        },
        "id": "utJz6s4YU9Yf",
        "outputId": "5d9b66e2-cf67-4cd9-ced3-10cb18538df8"
      },
      "outputs": [
        {
          "output_type": "execute_result",
          "data": {
            "text/plain": [
              "'Panic buying hits NewYork City anxious shoppers stock foodampmedical supplies healthcare worker 30s becomes BigApple 1st confirmed coronavirus patient OR Bloomberg staged '"
            ],
            "application/vnd.google.colaboratory.intrinsic+json": {
              "type": "string"
            }
          },
          "metadata": {},
          "execution_count": 14
        }
      ],
      "source": [
        "X[1]"
      ]
    },
    {
      "cell_type": "code",
      "execution_count": 15,
      "metadata": {
        "colab": {
          "base_uri": "https://localhost:8080/"
        },
        "id": "700GOonvWYdw",
        "outputId": "ae4e0b7b-e6ce-4ced-c56d-d76893dcd037"
      },
      "outputs": [
        {
          "output_type": "stream",
          "name": "stdout",
          "text": [
            "[nltk_data] Downloading package wordnet to /root/nltk_data...\n",
            "[nltk_data]   Unzipping corpora/wordnet.zip.\n"
          ]
        },
        {
          "output_type": "execute_result",
          "data": {
            "text/plain": [
              "True"
            ]
          },
          "metadata": {},
          "execution_count": 15
        }
      ],
      "source": [
        "import nltk\n",
        "nltk.download('wordnet')"
      ]
    },
    {
      "cell_type": "code",
      "execution_count": 16,
      "metadata": {
        "id": "EbmvisN9W0W5"
      },
      "outputs": [],
      "source": [
        "from nltk.stem import WordNetLemmatizer\n",
        "\n",
        "lmt = WordNetLemmatizer()\n",
        "\n",
        "for i in range(len(X)):\n",
        "    words = X[i].split()\n",
        "    word = []\n",
        "    for w in words:\n",
        "        w = w.lower()\n",
        "        mod_w = lmt.lemmatize(w, pos=\"v\")\n",
        "        word.append(mod_w+\" \")\n",
        "    \n",
        "    X[i] = ''.join(word)"
      ]
    },
    {
      "cell_type": "code",
      "execution_count": 17,
      "metadata": {
        "colab": {
          "base_uri": "https://localhost:8080/"
        },
        "id": "Mm2t2toEFoZY",
        "outputId": "e14133b7-9098-40b6-9e81-aa9c87b5a0d7"
      },
      "outputs": [
        {
          "output_type": "execute_result",
          "data": {
            "text/plain": [
              "0       when i find hand sanitizer fred meyer i turn a...\n",
              "1       panic buy hit newyork city anxious shoppers st...\n",
              "2       vote age coronavirus hand sanitizer supertuesday \n",
              "3       best quality couch unbelievably low price avai...\n",
              "4       while busy watch election return brace covid19...\n",
              "                              ...                        \n",
              "1983    just kpiti new world busy staff say way since ...\n",
              "1984    even though law library close all subscribers ...\n",
              "1985    ricepolitics mdcounties craig call general ass...\n",
              "1986    meanwhile in a supermarket israel people dance...\n",
              "1987    do panic buy lot nonperishable items echo need...\n",
              "Name: OriginalTweet, Length: 1988, dtype: object"
            ]
          },
          "metadata": {},
          "execution_count": 17
        }
      ],
      "source": [
        "X"
      ]
    },
    {
      "cell_type": "code",
      "execution_count": 18,
      "metadata": {
        "colab": {
          "base_uri": "https://localhost:8080/"
        },
        "id": "D2JQuE5ApRLO",
        "outputId": "b61ed5e8-32d2-4944-8150-2a65f26f82ee"
      },
      "outputs": [
        {
          "output_type": "execute_result",
          "data": {
            "text/plain": [
              "0       [when, i, find, hand, sanitizer, fred, meyer, ...\n",
              "1       [panic, buy, hit, newyork, city, anxious, shop...\n",
              "2       [vote, age, coronavirus, hand, sanitizer, supe...\n",
              "3       [best, quality, couch, unbelievably, low, pric...\n",
              "4       [while, busy, watch, election, return, brace, ...\n",
              "                              ...                        \n",
              "1983    [just, kpiti, new, world, busy, staff, say, wa...\n",
              "1984    [even, though, law, library, close, all, subsc...\n",
              "1985    [ricepolitics, mdcounties, craig, call, genera...\n",
              "1986    [meanwhile, in, a, supermarket, israel, people...\n",
              "1987    [do, panic, buy, lot, nonperishable, items, ec...\n",
              "Name: OriginalTweet, Length: 1988, dtype: object"
            ]
          },
          "metadata": {},
          "execution_count": 18
        }
      ],
      "source": [
        "for i in range(len(X)):\n",
        "    X[i] = X[i].split()\n",
        "\n",
        "X"
      ]
    },
    {
      "cell_type": "code",
      "execution_count": 19,
      "metadata": {
        "id": "YN5q8Xjx36rm"
      },
      "outputs": [],
      "source": [
        "from gensim.models import Word2Vec, Phrases\n",
        "\n",
        "w2v_model = Word2Vec(sentences = X,size = 100,window=5,min_count=1)"
      ]
    },
    {
      "cell_type": "code",
      "execution_count": 20,
      "metadata": {
        "id": "ow7TxgBCFgZO"
      },
      "outputs": [],
      "source": [
        "from tensorflow.keras.preprocessing.text import Tokenizer\n",
        "from tensorflow.keras.preprocessing.sequence import pad_sequences\n",
        "from tensorflow.keras.models import Sequential\n",
        "from tensorflow.keras.layers import Dense, Embedding, LSTM,SimpleRNN, Dropout\n",
        "from sklearn.model_selection import train_test_split\n",
        "from sklearn.metrics import classification_report, accuracy_score\n",
        "from tensorflow.keras import optimizers"
      ]
    },
    {
      "cell_type": "code",
      "execution_count": 21,
      "metadata": {
        "id": "9hSJm_JNFcup"
      },
      "outputs": [],
      "source": [
        "tokenizer = Tokenizer()\n",
        "tokenizer.fit_on_texts(X)"
      ]
    },
    {
      "cell_type": "code",
      "execution_count": 22,
      "metadata": {
        "id": "mIK81VC2Fc1i"
      },
      "outputs": [],
      "source": [
        "X = tokenizer.texts_to_sequences(X)"
      ]
    },
    {
      "cell_type": "code",
      "execution_count": 23,
      "metadata": {
        "id": "Bm951W50-W_r"
      },
      "outputs": [],
      "source": [
        "pad_len = 150\n",
        "X = pad_sequences(X,maxlen=pad_len)"
      ]
    },
    {
      "cell_type": "code",
      "execution_count": 24,
      "metadata": {
        "colab": {
          "base_uri": "https://localhost:8080/"
        },
        "id": "MdGIVzB3Oc34",
        "outputId": "d8f5208a-c515-4cb1-ac92-55e96c018c5f"
      },
      "outputs": [
        {
          "output_type": "execute_result",
          "data": {
            "text/plain": [
              "array([[   0,    0,    0, ...,  181,  367,   16],\n",
              "       [   0,    0,    0, ...,  479, 2817, 1927],\n",
              "       [   0,    0,    0, ...,   40,  152, 2818],\n",
              "       ...,\n",
              "       [   0,    0,    0, ..., 7704,  239, 1139],\n",
              "       [   0,    0,    0, ...,   48,  519,    3],\n",
              "       [   0,    0,    0, ...,  872,  169,    1]], dtype=int32)"
            ]
          },
          "metadata": {},
          "execution_count": 24
        }
      ],
      "source": [
        "X"
      ]
    },
    {
      "cell_type": "code",
      "execution_count": 25,
      "metadata": {
        "colab": {
          "base_uri": "https://localhost:8080/"
        },
        "id": "7ruQk7GlF7t6",
        "outputId": "f895be26-2533-405f-d24e-33d0972f97d3"
      },
      "outputs": [
        {
          "output_type": "stream",
          "name": "stdout",
          "text": [
            "1 --> covid19\n",
            "2 --> food\n",
            "3 --> coronavirus\n",
            "4 --> store\n",
            "5 --> i\n",
            "6 --> stock\n",
            "7 --> grocery\n",
            "8 --> people\n",
            "9 --> go\n",
            "10 --> shop\n",
            "11 --> get\n",
            "12 --> buy\n",
            "13 --> supermarket\n",
            "14 --> amp\n",
            "15 --> online\n",
            "16 --> price\n",
            "17 --> panic\n",
            "18 --> need\n",
            "19 --> like\n",
            "20 --> toilet\n",
            "21 --> paper\n",
            "22 --> the\n",
            "23 --> time\n",
            "24 --> work\n",
            "25 --> supply\n",
            "26 --> local\n",
            "27 --> home\n",
            "28 --> take\n",
            "29 --> us\n",
            "30 --> demand\n"
          ]
        }
      ],
      "source": [
        "# Mappings\n",
        "indexes = tokenizer.word_index\n",
        "for word,num in indexes.items():\n",
        "    print(f\"{num} --> {word}\")\n",
        "    if num == 30:\n",
        "        break"
      ]
    },
    {
      "cell_type": "code",
      "execution_count": 26,
      "metadata": {
        "id": "ZjI8X-NKI9Iz"
      },
      "outputs": [],
      "source": [
        "vocab_size = len(tokenizer.word_index) + 1"
      ]
    },
    {
      "cell_type": "code",
      "execution_count": 27,
      "metadata": {
        "colab": {
          "base_uri": "https://localhost:8080/"
        },
        "id": "at15OwxjBSmh",
        "outputId": "ed5ed820-99aa-4b1b-e4b4-1140357576f2"
      },
      "outputs": [
        {
          "output_type": "execute_result",
          "data": {
            "text/plain": [
              "0       Positive\n",
              "1       Negative\n",
              "2       Positive\n",
              "3       Positive\n",
              "4       Positive\n",
              "          ...   \n",
              "1983    Positive\n",
              "1984    Positive\n",
              "1985    Negative\n",
              "1986    Positive\n",
              "1987    Negative\n",
              "Name: Sentiment, Length: 1988, dtype: object"
            ]
          },
          "metadata": {},
          "execution_count": 27
        }
      ],
      "source": [
        "Y = mod_data['Sentiment']\n",
        "\n",
        "Y"
      ]
    },
    {
      "cell_type": "code",
      "execution_count": 28,
      "metadata": {
        "colab": {
          "base_uri": "https://localhost:8080/"
        },
        "id": "BLzBMjKKRJqG",
        "outputId": "25f72398-ec73-4fb0-db10-317a57efc669"
      },
      "outputs": [
        {
          "output_type": "execute_result",
          "data": {
            "text/plain": [
              "array([1, 0, 1, ..., 0, 1, 0])"
            ]
          },
          "metadata": {},
          "execution_count": 28
        }
      ],
      "source": [
        "#label encoding for label class\n",
        "from sklearn import preprocessing\n",
        "\n",
        "label_encoder = preprocessing.LabelEncoder()\n",
        "Y = label_encoder.fit_transform(Y)\n",
        "\n",
        "Y"
      ]
    },
    {
      "cell_type": "code",
      "execution_count": 29,
      "metadata": {
        "id": "GzOG0Qev5eDM"
      },
      "outputs": [],
      "source": [
        "from sklearn.model_selection import train_test_split\n",
        "\n",
        "X_train,X_test, Y_train, Y_test = train_test_split(X, Y, test_size=0.2)"
      ]
    },
    {
      "cell_type": "code",
      "execution_count": 30,
      "metadata": {
        "colab": {
          "base_uri": "https://localhost:8080/"
        },
        "id": "GxKwN_mr6UYq",
        "outputId": "7dc47563-7c2e-41fa-b518-ab4355f536c1"
      },
      "outputs": [
        {
          "output_type": "stream",
          "name": "stdout",
          "text": [
            "(1590, 150)\n",
            "(1590,)\n"
          ]
        }
      ],
      "source": [
        "print(X_train.shape)\n",
        "print(Y_train.shape)"
      ]
    },
    {
      "cell_type": "code",
      "execution_count": 31,
      "metadata": {
        "colab": {
          "base_uri": "https://localhost:8080/"
        },
        "id": "YCNQqrZf6bTh",
        "outputId": "a38afd8a-e65b-42a7-9ebb-ee31a6417f75"
      },
      "outputs": [
        {
          "output_type": "stream",
          "name": "stdout",
          "text": [
            "[   0    0    0    0    0    0    0    0    0    0    0    0    0    0\n",
            "    0    0    0    0    0    0    0    0    0    0    0    0    0    0\n",
            "    0    0    0    0    0    0    0    0    0    0    0    0    0    0\n",
            "    0    0    0    0    0    0    0    0    0    0    0    0    0    0\n",
            "    0    0    0    0    0    0    0    0    0    0    0    0    0    0\n",
            "    0    0    0    0    0    0    0    0    0    0    0    0    0    0\n",
            "    0    0    0    0    0    0    0    0    0    0    0    0    0    0\n",
            "    0    0    0    0    0    0    0    0    0    0    0    0    0    0\n",
            "    0    0    0    0    0    0    0    0    0    0    0    0    0    0\n",
            "    0    0    0    0    0    0    0    0    0    0    0 2053 2416  446\n",
            " 2490  986   72   57    7    4   35   72   47    1]\n"
          ]
        }
      ],
      "source": [
        "print(X_train[1])"
      ]
    },
    {
      "cell_type": "code",
      "execution_count": 32,
      "metadata": {
        "colab": {
          "base_uri": "https://localhost:8080/"
        },
        "id": "OvJiSX0NKoag",
        "outputId": "9d49885b-49b3-4f21-8946-a7437e562a09"
      },
      "outputs": [
        {
          "output_type": "execute_result",
          "data": {
            "text/plain": [
              "7706"
            ]
          },
          "metadata": {},
          "execution_count": 32
        }
      ],
      "source": [
        "len(w2v_model.wv.vocab)"
      ]
    },
    {
      "cell_type": "code",
      "execution_count": 33,
      "metadata": {
        "id": "LMsOOr9-4y10"
      },
      "outputs": [],
      "source": [
        "import numpy as np\n",
        "\n",
        "weight_matrix = np.zeros((vocab_size,100))\n",
        "for word,i in indexes.items():\n",
        "    weight_matrix[i] = w2v_model.wv[word]"
      ]
    },
    {
      "cell_type": "code",
      "execution_count": 34,
      "metadata": {
        "colab": {
          "base_uri": "https://localhost:8080/"
        },
        "id": "wkpj_TJ2FJer",
        "outputId": "e93cc86a-2227-440d-a4fc-c23159a83c65"
      },
      "outputs": [
        {
          "output_type": "stream",
          "name": "stdout",
          "text": [
            "(1590, 150)\n"
          ]
        }
      ],
      "source": [
        "print(X_train.shape)"
      ]
    },
    {
      "cell_type": "code",
      "execution_count": 35,
      "metadata": {
        "colab": {
          "base_uri": "https://localhost:8080/"
        },
        "id": "80BUK5xrFUgW",
        "outputId": "eb9be7a4-8985-40c6-ab4b-44cab8d83255"
      },
      "outputs": [
        {
          "output_type": "stream",
          "name": "stdout",
          "text": [
            "(1590,)\n"
          ]
        }
      ],
      "source": [
        "print(Y_train.shape)"
      ]
    },
    {
      "cell_type": "code",
      "execution_count": 36,
      "metadata": {
        "colab": {
          "base_uri": "https://localhost:8080/"
        },
        "id": "4hO-QhAI2eEv",
        "outputId": "e44578e5-3b48-47e2-bb12-55f9aa62a397"
      },
      "outputs": [
        {
          "output_type": "stream",
          "name": "stdout",
          "text": [
            "0\n"
          ]
        }
      ],
      "source": [
        "print(Y_train[1])"
      ]
    },
    {
      "cell_type": "code",
      "execution_count": 49,
      "metadata": {
        "colab": {
          "base_uri": "https://localhost:8080/"
        },
        "id": "s7-rDboXImo2",
        "outputId": "d434efd7-6d2c-44fc-a852-a686c1cb6e5a"
      },
      "outputs": [
        {
          "output_type": "stream",
          "name": "stdout",
          "text": [
            "Model: \"sequential_6\"\n",
            "_________________________________________________________________\n",
            " Layer (type)                Output Shape              Param #   \n",
            "=================================================================\n",
            " embedding_6 (Embedding)     (None, 150, 100)          770700    \n",
            "                                                                 \n",
            " lstm_9 (LSTM)               (None, 100)               80400     \n",
            "                                                                 \n",
            " dropout_6 (Dropout)         (None, 100)               0         \n",
            "                                                                 \n",
            " dense_3 (Dense)             (None, 1)                 101       \n",
            "                                                                 \n",
            "=================================================================\n",
            "Total params: 851,201\n",
            "Trainable params: 80,501\n",
            "Non-trainable params: 770,700\n",
            "_________________________________________________________________\n"
          ]
        }
      ],
      "source": [
        "model=Sequential()\n",
        "model.add(Embedding(vocab_size,output_dim=100,weights = [weight_matrix], \n",
        "                    input_length = pad_len,trainable = False))\n",
        "\n",
        "model.add(LSTM(units=100))\n",
        "model.add(Dropout(0.3))\n",
        "\n",
        "model.add(Dense(1,activation=\"sigmoid\"))\n",
        "\n",
        "model.summary()"
      ]
    },
    {
      "cell_type": "code",
      "execution_count": 50,
      "metadata": {
        "id": "EvGEZrYvRhf9"
      },
      "outputs": [],
      "source": [
        "adam=optimizers.Adam(learning_rate=0.08)\n",
        "model.compile(loss='binary_crossentropy',optimizer=adam,metrics=['accuracy'])"
      ]
    },
    {
      "cell_type": "code",
      "execution_count": 51,
      "metadata": {
        "colab": {
          "base_uri": "https://localhost:8080/"
        },
        "id": "H3Vim3GOpSmX",
        "outputId": "0a74ed05-ecca-4fee-e450-657d5db31c46"
      },
      "outputs": [
        {
          "output_type": "stream",
          "name": "stdout",
          "text": [
            "Epoch 1/50\n",
            "72/72 [==============================] - 10s 107ms/step - loss: 0.8260 - accuracy: 0.5003 - val_loss: 0.6801 - val_accuracy: 0.5535\n",
            "Epoch 2/50\n",
            "72/72 [==============================] - 7s 101ms/step - loss: 0.7147 - accuracy: 0.5241 - val_loss: 0.7246 - val_accuracy: 0.4717\n",
            "Epoch 3/50\n",
            "72/72 [==============================] - 7s 102ms/step - loss: 0.7134 - accuracy: 0.5122 - val_loss: 0.7618 - val_accuracy: 0.4465\n",
            "Epoch 4/50\n",
            "72/72 [==============================] - 7s 102ms/step - loss: 0.7070 - accuracy: 0.4997 - val_loss: 0.6825 - val_accuracy: 0.5535\n",
            "Epoch 5/50\n",
            "72/72 [==============================] - 7s 101ms/step - loss: 0.7108 - accuracy: 0.4731 - val_loss: 0.6995 - val_accuracy: 0.5094\n",
            "Epoch 6/50\n",
            "72/72 [==============================] - 7s 101ms/step - loss: 0.7020 - accuracy: 0.5129 - val_loss: 0.6895 - val_accuracy: 0.5283\n",
            "Epoch 7/50\n",
            "72/72 [==============================] - 7s 101ms/step - loss: 0.6973 - accuracy: 0.5150 - val_loss: 0.6922 - val_accuracy: 0.5535\n",
            "Epoch 8/50\n",
            "72/72 [==============================] - 7s 101ms/step - loss: 0.7029 - accuracy: 0.4962 - val_loss: 0.7073 - val_accuracy: 0.5094\n",
            "Epoch 9/50\n",
            "72/72 [==============================] - 7s 103ms/step - loss: 0.6982 - accuracy: 0.5122 - val_loss: 0.6947 - val_accuracy: 0.5031\n",
            "Epoch 10/50\n",
            "72/72 [==============================] - 7s 101ms/step - loss: 0.7047 - accuracy: 0.5024 - val_loss: 0.6941 - val_accuracy: 0.5535\n",
            "Epoch 11/50\n",
            "72/72 [==============================] - 8s 105ms/step - loss: 0.7008 - accuracy: 0.5255 - val_loss: 0.6956 - val_accuracy: 0.4654\n",
            "Epoch 12/50\n",
            "72/72 [==============================] - 7s 100ms/step - loss: 0.6992 - accuracy: 0.5024 - val_loss: 0.6917 - val_accuracy: 0.5535\n",
            "Epoch 13/50\n",
            "72/72 [==============================] - 7s 99ms/step - loss: 0.6984 - accuracy: 0.5122 - val_loss: 0.6971 - val_accuracy: 0.4654\n",
            "Epoch 14/50\n",
            "72/72 [==============================] - 7s 99ms/step - loss: 0.7007 - accuracy: 0.5164 - val_loss: 0.6971 - val_accuracy: 0.5094\n",
            "Epoch 15/50\n",
            "72/72 [==============================] - 7s 100ms/step - loss: 0.7028 - accuracy: 0.5220 - val_loss: 0.6818 - val_accuracy: 0.5535\n",
            "Epoch 16/50\n",
            "72/72 [==============================] - 8s 113ms/step - loss: 0.6997 - accuracy: 0.5024 - val_loss: 0.6816 - val_accuracy: 0.5535\n",
            "Epoch 17/50\n",
            "72/72 [==============================] - 7s 101ms/step - loss: 0.6977 - accuracy: 0.5094 - val_loss: 0.7104 - val_accuracy: 0.5535\n",
            "Epoch 18/50\n",
            "72/72 [==============================] - 7s 100ms/step - loss: 0.6927 - accuracy: 0.5353 - val_loss: 0.6914 - val_accuracy: 0.5409\n",
            "Epoch 19/50\n",
            "72/72 [==============================] - 7s 101ms/step - loss: 0.6934 - accuracy: 0.5276 - val_loss: 0.6861 - val_accuracy: 0.5535\n",
            "Epoch 20/50\n",
            "72/72 [==============================] - 7s 101ms/step - loss: 0.6930 - accuracy: 0.5353 - val_loss: 0.6863 - val_accuracy: 0.5220\n",
            "Epoch 21/50\n",
            "72/72 [==============================] - 7s 103ms/step - loss: 0.6937 - accuracy: 0.5262 - val_loss: 0.7133 - val_accuracy: 0.4465\n",
            "Epoch 22/50\n",
            "72/72 [==============================] - 7s 102ms/step - loss: 0.6983 - accuracy: 0.5248 - val_loss: 0.6833 - val_accuracy: 0.5597\n",
            "Epoch 23/50\n",
            "72/72 [==============================] - 7s 102ms/step - loss: 0.6932 - accuracy: 0.5227 - val_loss: 0.6969 - val_accuracy: 0.5597\n",
            "Epoch 24/50\n",
            "72/72 [==============================] - 7s 100ms/step - loss: 0.6962 - accuracy: 0.5136 - val_loss: 0.6909 - val_accuracy: 0.5535\n",
            "Epoch 25/50\n",
            "72/72 [==============================] - 7s 102ms/step - loss: 0.6910 - accuracy: 0.5143 - val_loss: 0.6877 - val_accuracy: 0.5535\n",
            "Epoch 26/50\n",
            "72/72 [==============================] - 7s 100ms/step - loss: 0.6939 - accuracy: 0.5311 - val_loss: 0.6909 - val_accuracy: 0.4654\n",
            "Epoch 27/50\n",
            "72/72 [==============================] - 7s 100ms/step - loss: 0.6893 - accuracy: 0.5199 - val_loss: 0.6930 - val_accuracy: 0.5535\n",
            "Epoch 28/50\n",
            "72/72 [==============================] - 7s 101ms/step - loss: 0.6917 - accuracy: 0.5199 - val_loss: 0.6875 - val_accuracy: 0.5409\n",
            "Epoch 29/50\n",
            "72/72 [==============================] - 7s 100ms/step - loss: 0.6861 - accuracy: 0.5192 - val_loss: 0.6998 - val_accuracy: 0.5597\n",
            "Epoch 30/50\n",
            "72/72 [==============================] - 7s 101ms/step - loss: 0.6854 - accuracy: 0.5472 - val_loss: 0.7029 - val_accuracy: 0.4340\n",
            "Epoch 31/50\n",
            "72/72 [==============================] - 7s 100ms/step - loss: 0.6876 - accuracy: 0.5325 - val_loss: 0.7074 - val_accuracy: 0.5220\n",
            "Epoch 32/50\n",
            "72/72 [==============================] - 7s 98ms/step - loss: 0.6942 - accuracy: 0.5667 - val_loss: 0.6929 - val_accuracy: 0.5535\n",
            "Epoch 33/50\n",
            "72/72 [==============================] - 7s 97ms/step - loss: 0.6764 - accuracy: 0.5486 - val_loss: 0.7115 - val_accuracy: 0.5660\n",
            "Epoch 34/50\n",
            "72/72 [==============================] - 7s 97ms/step - loss: 0.6879 - accuracy: 0.5031 - val_loss: 0.7050 - val_accuracy: 0.5157\n",
            "Epoch 35/50\n",
            "72/72 [==============================] - 7s 102ms/step - loss: 0.6836 - accuracy: 0.5486 - val_loss: 0.7307 - val_accuracy: 0.5597\n",
            "Epoch 36/50\n",
            "72/72 [==============================] - 7s 98ms/step - loss: 0.6771 - accuracy: 0.5346 - val_loss: 0.6982 - val_accuracy: 0.5409\n",
            "Epoch 37/50\n",
            "72/72 [==============================] - 7s 98ms/step - loss: 0.6700 - accuracy: 0.5507 - val_loss: 0.6820 - val_accuracy: 0.6101\n",
            "Epoch 38/50\n",
            "72/72 [==============================] - 7s 98ms/step - loss: 0.6758 - accuracy: 0.5493 - val_loss: 0.6985 - val_accuracy: 0.5535\n",
            "Epoch 39/50\n",
            "72/72 [==============================] - 7s 97ms/step - loss: 0.6747 - accuracy: 0.5507 - val_loss: 0.6987 - val_accuracy: 0.4654\n",
            "Epoch 40/50\n",
            "72/72 [==============================] - 7s 100ms/step - loss: 0.9326 - accuracy: 0.5178 - val_loss: 1.2484 - val_accuracy: 0.4969\n",
            "Epoch 41/50\n",
            "72/72 [==============================] - 7s 101ms/step - loss: 1.1388 - accuracy: 0.5122 - val_loss: 0.7652 - val_accuracy: 0.4654\n",
            "Epoch 42/50\n",
            "72/72 [==============================] - 7s 96ms/step - loss: 0.8550 - accuracy: 0.5003 - val_loss: 0.7430 - val_accuracy: 0.4969\n",
            "Epoch 43/50\n",
            "72/72 [==============================] - 7s 99ms/step - loss: 0.8217 - accuracy: 0.5017 - val_loss: 0.7027 - val_accuracy: 0.5409\n",
            "Epoch 44/50\n",
            "72/72 [==============================] - 7s 97ms/step - loss: 0.7859 - accuracy: 0.5101 - val_loss: 0.7045 - val_accuracy: 0.5472\n",
            "Epoch 45/50\n",
            "72/72 [==============================] - 7s 99ms/step - loss: 0.7964 - accuracy: 0.5031 - val_loss: 0.7163 - val_accuracy: 0.5597\n",
            "Epoch 46/50\n",
            "72/72 [==============================] - 7s 97ms/step - loss: 0.7575 - accuracy: 0.5178 - val_loss: 0.7338 - val_accuracy: 0.4843\n",
            "Epoch 47/50\n",
            "72/72 [==============================] - 7s 100ms/step - loss: 0.7659 - accuracy: 0.4941 - val_loss: 0.7558 - val_accuracy: 0.4340\n",
            "Epoch 48/50\n",
            "72/72 [==============================] - 7s 98ms/step - loss: 0.8291 - accuracy: 0.5150 - val_loss: 0.8278 - val_accuracy: 0.5031\n",
            "Epoch 49/50\n",
            "72/72 [==============================] - 7s 102ms/step - loss: 0.8229 - accuracy: 0.5038 - val_loss: 0.7599 - val_accuracy: 0.5094\n",
            "Epoch 50/50\n",
            "72/72 [==============================] - 7s 100ms/step - loss: 0.7821 - accuracy: 0.5094 - val_loss: 0.7119 - val_accuracy: 0.5597\n"
          ]
        }
      ],
      "source": [
        "history=model.fit(X_train,Y_train,epochs=50, batch_size = 20, validation_split=0.1)"
      ]
    },
    {
      "cell_type": "code",
      "source": [
        "# summarize history for accuracy\n",
        "fig, (axis1, axis2) = plt.subplots(nrows=1, ncols=2, figsize=(16,6))\n",
        "\n",
        "axis1.plot(history.history['accuracy'], label='Train', linewidth=3)\n",
        "axis1.plot(history.history['val_accuracy'], label='Validation', linewidth=3)\n",
        "axis1.set_title('Model accuracy', fontsize=16)\n",
        "axis1.set_ylabel('accuracy')\n",
        "axis1.set_xlabel('epoch')\n",
        "axis1.legend(loc='upper left')\n",
        "\n",
        "# summarize history for loss\n",
        "axis2.plot(history.history['loss'], label='Train', linewidth=3)\n",
        "axis2.plot(history.history['val_loss'], label='Validation', linewidth=3)\n",
        "axis2.set_title('Model loss', fontsize=16)\n",
        "axis2.set_ylabel('loss')\n",
        "axis2.set_xlabel('epoch')\n",
        "axis2.legend(loc='upper right')\n",
        "plt.show()"
      ],
      "metadata": {
        "colab": {
          "base_uri": "https://localhost:8080/",
          "height": 406
        },
        "id": "gWg5vAr76yo2",
        "outputId": "4deebc88-2e4b-4f06-a8a2-c66fcf3bb59e"
      },
      "execution_count": 52,
      "outputs": [
        {
          "output_type": "display_data",
          "data": {
            "text/plain": [
              "<Figure size 1152x432 with 2 Axes>"
            ],
            "image/png": "[encoded data removed]"
          },
          "metadata": {
            "needs_background": "light"
          }
        }
      ]
    },
    {
      "cell_type": "code",
      "source": [
        "model.evaluate(X_test, Y_test)"
      ],
      "metadata": {
        "colab": {
          "base_uri": "https://localhost:8080/"
        },
        "id": "RXJ0r1541Z0d",
        "outputId": "93b5d280-b096-48f2-baf3-ee85c012d7e0"
      },
      "execution_count": 53,
      "outputs": [
        {
          "output_type": "stream",
          "name": "stdout",
          "text": [
            "13/13 [==============================] - 1s 50ms/step - loss: 0.7957 - accuracy: 0.5000\n"
          ]
        },
        {
          "output_type": "execute_result",
          "data": {
            "text/plain": [
              "[0.7956815958023071, 0.5]"
            ]
          },
          "metadata": {},
          "execution_count": 53
        }
      ]
    },
    {
      "cell_type": "code",
      "source": [
        "X_test[0].shape"
      ],
      "metadata": {
        "colab": {
          "base_uri": "https://localhost:8080/"
        },
        "id": "SxxiBEsF18bX",
        "outputId": "43363e34-4616-4801-d0ba-71e03707a50a"
      },
      "execution_count": 57,
      "outputs": [
        {
          "output_type": "execute_result",
          "data": {
            "text/plain": [
              "(150,)"
            ]
          },
          "metadata": {},
          "execution_count": 57
        }
      ]
    },
    {
      "cell_type": "code",
      "source": [
        "sin_test_shape = X_test[0].shape[0]\n",
        "\n",
        "sin_test_shape"
      ],
      "metadata": {
        "colab": {
          "base_uri": "https://localhost:8080/"
        },
        "id": "zkThvjb_2GX2",
        "outputId": "988fae97-b470-4be5-80c5-ed54cf0b1405"
      },
      "execution_count": 64,
      "outputs": [
        {
          "output_type": "execute_result",
          "data": {
            "text/plain": [
              "150"
            ]
          },
          "metadata": {},
          "execution_count": 64
        }
      ]
    },
    {
      "cell_type": "code",
      "source": [
        "prediction = model.predict(X_test[0].reshape(X_test[0].shape[0],1))\n",
        "\n",
        "print(\"Prediction: %.2f\"%prediction[0],\"Actual:\",Y_test[0])"
      ],
      "metadata": {
        "colab": {
          "base_uri": "https://localhost:8080/"
        },
        "id": "GGUxXJVw1go-",
        "outputId": "f5c952de-abe9-4e61-a79f-3a10cb24ed22"
      },
      "execution_count": 67,
      "outputs": [
        {
          "output_type": "stream",
          "name": "stdout",
          "text": [
            "Prediction: 0.71 Actual: 0\n"
          ]
        }
      ]
    }
  ],
  "metadata": {
    "colab": {
      "collapsed_sections": [],
      "name": "BOB LSTM-SA.ipynb",
      "provenance": []
    },
    "kernelspec": {
      "display_name": "Python 3",
      "name": "python3"
    },
    "language_info": {
      "name": "python"
    }
  },
  "nbformat": 4,
  "nbformat_minor": 0
}